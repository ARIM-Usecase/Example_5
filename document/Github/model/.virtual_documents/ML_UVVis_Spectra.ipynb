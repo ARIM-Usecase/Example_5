import pandas as pd
import numpy as np
import matplotlib.pyplot as plt
import seaborn as sns
from sklearn.utils import shuffle

data = pd.read_excel("data_all_train.xlsx")
data = shuffle(data)
data.head()


data.isnull().sum(axis=0)


print(data.info())
print(data.shape)


data_01 = data.iloc[:,0:-1]   
corr_mat = data_01.corr()
f, ax = plt.subplots(figsize=(9.5, 7.5))

sns.heatmap(corr_mat, vmax=.8, square=True, cmap="GnBu_r",\
            annot=True, annot_kws={'size': 12,'weight':'bold',}, fmt='.2f',linecolor= 'white', linewidths = 1)

plt.xticks(rotation=360, fontproperties = 'Times New Roman', size = 24, weight='black')
plt.yticks(rotation=360, fontproperties = 'Times New Roman', size = 24, weight='black')

plt.tick_params(width=3,length=8)

plt.savefig("correlation.png", dpi=600)
plt.show()


X_train = data.drop(["Abs"],axis=1)
y_train = data["Abs"]
print(type(X_train))


# Training set
X_train = data.drop(["Abs"],axis=1)
y_train = data["Abs"]

# Testing set
data = pd.read_excel("data_all_test.xlsx")
X_test = data.drop(["Abs"],axis=1)
y_test = data["Abs"]


# KNN
from sklearn.neighbors import KNeighborsRegressor
from sklearn.metrics import mean_absolute_percentage_error, mean_squared_error, mean_absolute_error

KNNR = KNeighborsRegressor(5)
KNNR.fit (X_train, y_train)

KNNR_pred_train = KNNR.predict(X_train)
KNNR_pred_test = KNNR.predict(X_test)

pearson_train = np.corrcoef(y_train, KNNR_pred_train)
pearson_test = np.corrcoef(y_test, KNNR_pred_test)

MAPE_train = mean_absolute_percentage_error(y_train, KNNR_pred_train)
RMSE_train = np.sqrt(mean_squared_error(y_train, KNNR_pred_train))
MAE_train = mean_absolute_error(y_train, KNNR_pred_train)


MAPE_test = mean_absolute_percentage_error(y_test, KNNR_pred_test)
RMSE_test = np.sqrt(mean_squared_error(y_test, KNNR_pred_test))
MAE_test = mean_absolute_error(y_test, KNNR_pred_test)

print("Pearson Coeffient train:",pearson_train)
print("Pearson Coeffient test:",pearson_test)
print("MAPE_train:", MAPE_train)
print("RMSE_train:", RMSE_train)
print("MAE_train:", MAE_train)
print("MAPE_test:", MAPE_test)
print("RMSE_test:", RMSE_test)
print("MAE_test:", MAE_test)


# Random Forest
from sklearn import ensemble
from sklearn.preprocessing import StandardScaler
from sklearn.metrics import mean_absolute_percentage_error, mean_squared_error, mean_absolute_error

RFR = ensemble.RandomForestRegressor(n_estimators=60) #, random_state=1234

RFR.fit(X_train, y_train)

RFR_pred_train = RFR.predict(X_train)
RFR_pred_test = RFR.predict(X_test)

pearson_train = np.corrcoef(y_train, RFR_pred_train)
pearson_test = np.corrcoef(y_test, RFR_pred_test)

MAPE_train = mean_absolute_percentage_error(y_train, RFR_pred_train)
RMSE_train = np.sqrt(mean_squared_error(y_train, RFR_pred_train))
MAE_train = mean_absolute_error(y_train, RFR_pred_train)

MAPE_test = mean_absolute_percentage_error(y_test, RFR_pred_test)
RMSE_test = np.sqrt(mean_squared_error(y_test, RFR_pred_test))
MAE_test = mean_absolute_error(y_test, RFR_pred_test)

print("Pearson Coeffient train:",pearson_train)
print("Pearson Coeffient test:",pearson_test)
print("MAPE_train:", MAPE_train)
print("RMSE_train:", RMSE_train)
print("MAE_train:", MAE_train)
print("MAPE_test:", MAPE_test)
print("RMSE_test:", RMSE_test)
print("MAE_test:", MAE_test)


# ExtraTree
from sklearn import ensemble
from sklearn.metrics import mean_absolute_percentage_error, mean_squared_error, mean_absolute_error

ExtraTree_R = ensemble.ExtraTreesRegressor(n_estimators=15)

ExtraTree_R.fit(X_train, y_train)

ExtraTree_R_pred_train = ExtraTree_R.predict(X_train)
ExtraTree_R_pred_test = ExtraTree_R.predict(X_test)

pearson_train = np.corrcoef(y_train, ExtraTree_R_pred_train)
pearson_test = np.corrcoef(y_test, ExtraTree_R_pred_test)

MAPE_train = mean_absolute_percentage_error(y_train, ExtraTree_R_pred_train)
RMSE_train = np.sqrt(mean_squared_error(y_train, ExtraTree_R_pred_train))
MAE_train = mean_absolute_error(y_train, ExtraTree_R_pred_train)

MAPE_test = mean_absolute_percentage_error(y_test, ExtraTree_R_pred_test)
RMSE_test = np.sqrt(mean_squared_error(y_test, ExtraTree_R_pred_test))
MAE_test = mean_absolute_error(y_test, ExtraTree_R_pred_test)

print("Pearson Coeffient train:",pearson_train)
print("Pearson Coeffient test:",pearson_test)
print("MAPE_train:", MAPE_train)
print("RMSE_train:", RMSE_train)
print("MAE_train:", MAE_train)
print("MAPE_test:", MAPE_test)
print("RMSE_test:", RMSE_test)
print("MAE_test:", MAE_test)

np.savetxt("predict_test/predict_test_1.csv",ExtraTree_R_pred_test, delimiter=",")



# GBDT
from sklearn import ensemble
from sklearn.metrics import mean_absolute_percentage_error, mean_squared_error, mean_absolute_error

GBDT_R = ensemble.GradientBoostingRegressor(n_estimators=55)
GBDT_R.fit(X_train, y_train)

GBDT_R_pred_train = GBDT_R.predict(X_train)
GBDT_R_pred_test = GBDT_R.predict(X_test)

pearson_train = np.corrcoef(y_train, GBDT_R_pred_train)
pearson_test = np.corrcoef(y_test, GBDT_R_pred_test)

MAPE_train = mean_absolute_percentage_error(y_train, GBDT_R_pred_train)
RMSE_train = np.sqrt(mean_squared_error(y_train, GBDT_R_pred_train))
MAE_train = mean_absolute_error(y_train, GBDT_R_pred_train)

MAPE_test = mean_absolute_percentage_error(y_test, GBDT_R_pred_test)
RMSE_test = np.sqrt(mean_squared_error(y_test, GBDT_R_pred_test))
MAE_test = mean_absolute_error(y_test, GBDT_R_pred_test)

print("Pearson Coeffient train:",pearson_train)
print("Pearson Coeffient test:",pearson_test)
print("MAPE_train:", MAPE_train)
print("RMSE_train:", RMSE_train)
print("MAE_train:", MAE_train)
print("MAPE_test:", MAPE_test)
print("RMSE_test:", RMSE_test)
print("MAE_test:", MAE_test)



# XGBoost
import xgboost
from sklearn.metrics import mean_absolute_percentage_error, mean_squared_error, mean_absolute_error

XGBoost_R = xgboost.XGBRegressor(n_estimators=300)

XGBoost_R.fit(X_train,y_train)

XGBoost_R_pred_train = XGBoost_R.predict(X_train)
XGBoost_R_pred_test = XGBoost_R.predict(X_test)

pearson_train = np.corrcoef(y_train, XGBoost_R_pred_train)
pearson_test = np.corrcoef(y_test, XGBoost_R_pred_test)

MAPE_train = mean_absolute_percentage_error(y_train, XGBoost_R_pred_train)
RMSE_train = np.sqrt(mean_squared_error(y_train, XGBoost_R_pred_train))
MAE_train = mean_absolute_error(y_train, XGBoost_R_pred_train)

MAPE_test = mean_absolute_percentage_error(y_test, XGBoost_R_pred_test)
RMSE_test = np.sqrt(mean_squared_error(y_test, XGBoost_R_pred_test))
MAE_test = mean_absolute_error(y_test, XGBoost_R_pred_test)

print("Pearson Coeffient train:",pearson_train)
print("Pearson Coeffient test:",pearson_test)
print("MAPE_train:", MAPE_train)
print("RMSE_train:", RMSE_train)
print("MAE_train:", MAE_train)
print("MAPE_test:", MAPE_test)
print("RMSE_test:", RMSE_test)
print("MAE_test:", MAE_test)



# LightGBM
import lightgbm
from sklearn.metrics import mean_absolute_percentage_error, mean_squared_error, mean_absolute_error

LightGBM_R = lightgbm.LGBMRegressor(objective='regression', num_leaves=40, learning_rate=0.02, n_estimators=400,
                                verbosity=1, silent=True)
LightGBM_R.fit(X_train, y_train)

LightGBM_R_pred_train = LightGBM_R.predict(X_train)
LightGBM_R_pred_test = LightGBM_R.predict(X_test)

pearson_train = np.corrcoef(y_train, LightGBM_R_pred_train)
pearson_test = np.corrcoef(y_test, LightGBM_R_pred_test)

MAPE_train = mean_absolute_percentage_error(y_train, LightGBM_R_pred_train)
RMSE_train = np.sqrt(mean_squared_error(y_train, LightGBM_R_pred_train))
MAE_train = mean_absolute_error(y_train, LightGBM_R_pred_train)

MAPE_test = mean_absolute_percentage_error(y_test, LightGBM_R_pred_test)
RMSE_test = np.sqrt(mean_squared_error(y_test, LightGBM_R_pred_test))
MAE_test = mean_absolute_error(y_test, LightGBM_R_pred_test)

print("Pearson Coeffient train:",pearson_train)
print("Pearson Coeffient test:",pearson_test)
print("MAPE_train:", MAPE_train)
print("RMSE_train:", RMSE_train)
print("MAE_train:", MAE_train)
print("MAPE_test:", MAPE_test)
print("RMSE_test:", RMSE_test)
print("MAE_test:", MAE_test)



# CatBoost
import catboost
from sklearn.metrics import mean_absolute_percentage_error, mean_squared_error, mean_absolute_error

CatBoost_R =  catboost.CatBoostRegressor(iterations=500, learning_rate=0.01, loss_function='RMSE',verbose=False)

CatBoost_R.fit(X_train, y_train)

CatBoost_R_pred_train = CatBoost_R.predict(X_train)
CatBoost_R_pred_test = CatBoost_R.predict(X_test)

pearson_train = np.corrcoef(y_train, CatBoost_R_pred_train)
pearson_test = np.corrcoef(y_test, CatBoost_R_pred_test)

MAPE_train = mean_absolute_percentage_error(y_train, CatBoost_R_pred_train)
RMSE_train = np.sqrt(mean_squared_error(y_train, CatBoost_R_pred_train))
MAE_train = mean_absolute_error(y_train, CatBoost_R_pred_train)

MAPE_test = mean_absolute_percentage_error(y_test, CatBoost_R_pred_test)
RMSE_test = np.sqrt(mean_squared_error(y_test, CatBoost_R_pred_test))
MAE_test = mean_absolute_error(y_test, CatBoost_R_pred_test)

print("Pearson Coeffient train:",pearson_train)
print("Pearson Coeffient test:",pearson_test)
print("MAPE_train:", MAPE_train)
print("RMSE_train:", RMSE_train)
print("MAE_train:", MAE_train)
print("MAPE_test:", MAPE_test)
print("RMSE_test:", RMSE_test)
print("MAE_test:", MAE_test)



from sklearn.model_selection import cross_val_score
from sklearn.pipeline import make_pipeline
from sklearn.preprocessing import StandardScaler
from sklearn.metrics import make_scorer
from scipy.stats import pearsonr

model = [
         KNNR,
         RFR,
         ExtraTree_R,
         GBDT_R,
         XGBoost_R,
         LightGBM_R,
         CatBoost_R]

# A custom scoring function that will return the Pearson correlation coefficient.
def pearson_correlation(y_true, y_pred):
    return pearsonr(y_true, y_pred)[0] 

pearson_scorer = make_scorer(pearson_correlation)


for M in model:
    pipeline = make_pipeline(StandardScaler(), M)
    scores = cross_val_score(pipeline, X_train, y_train, scoring=pearson_scorer, cv=10, n_jobs=1)
    
    print("model:",M)
    print('Cross Validation scores: %s' % scores)
    print('Cross Validation: %.8f +/- %.8f' % (np.mean(scores),np.std(scores)))


from sklearn.model_selection import cross_val_score
from sklearn.pipeline import make_pipeline
from sklearn.preprocessing import StandardScaler

model = [
         KNNR,
         RFR,
         ExtraTree_R,
         GBDT_R,
         XGBoost_R,
         LightGBM_R,
         CatBoost_R]

for M in model:
    pipeline = make_pipeline(StandardScaler(), M)
    scores = cross_val_score(pipeline, X_train, y_train, cv=10, n_jobs=1, scoring='neg_mean_absolute_error')
    
    print("model:",M)
    print('Cross Validation scores: %s' % scores)
    print('Cross Validation: %.8f +/- %.8f' % (np.mean(scores),np.std(scores)))


importance = RFR.feature_importances_
y = importance
x = ['$\mathregular{WL}$','$\mathregular{B}$','$\mathregular{G}$','$\mathregular{R}$']
plt.figure(figsize=(10,8))

plt.yticks(fontproperties = 'Times New Roman', size = 24, weight='black')
plt.xticks(fontproperties = 'Times New Roman', size = 24, weight='black')

ax = plt.gca() # gca = 'get current axis' 
ax.spines['bottom'].set_linewidth(2.0)
ax.spines['left'].set_linewidth(2.0)
ax.spines['top'].set_linewidth(2.0)
ax.spines['right'].set_linewidth(2.0)

plt.tick_params(axis='y',width=2,length=6)
plt.tick_params(axis='x',width=2,length=6)

plt.xlabel('Descriptors',fontdict={'family':'Times New Roman','weight':'black','size':28})
plt.ylabel('Feature Importance',fontdict={'family':'Times New Roman','weight':'black','size':28})

plt.ylim(0, 0.6)

plt.bar(x, y, color='blue')

plt.savefig('feature_importance.png', dpi=1000)
plt.show()
